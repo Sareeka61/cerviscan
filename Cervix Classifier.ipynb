{
  "cells": [
    {
      "cell_type": "markdown",
      "metadata": {
        "id": "view-in-github",
        "colab_type": "text"
      },
      "source": [
        "<a href=\"https://colab.research.google.com/github/bigya01/cerviscan/blob/main/Cervix%20Classifier.ipynb\" target=\"_parent\"><img src=\"https://colab.research.google.com/assets/colab-badge.svg\" alt=\"Open In Colab\"/></a>"
      ]
    },
    {
      "cell_type": "code",
      "execution_count": null,
      "metadata": {
        "id": "vRG0BkKWKdNy"
      },
      "outputs": [],
      "source": [
        "from google.colab import drive\n",
        "drive.mount('/content/drive')"
      ]
    },
    {
      "cell_type": "markdown",
      "metadata": {
        "id": "UZ9vDwxLMr2w"
      },
      "source": [
        "# PREPROCESSING"
      ]
    },
    {
      "cell_type": "code",
      "execution_count": null,
      "metadata": {
        "id": "sRKj8rlXK0Cv"
      },
      "outputs": [],
      "source": [
        "'''\n",
        "  * loaded images from the file path\n",
        "  * splitted data into 3 parts : train, test, val\n",
        "  * removed corrupted pictures, resized to (180,180)\n",
        "  * normalized pictures by dividing each picture by 255 and dumped it to pickle cause my notebook couldn't take it\n",
        "  * augmented params of pics like height weight shear zoom etc to introduce diversity\n",
        "\n",
        "'''\n",
        "\n",
        "\n",
        "import pickle\n",
        "train_features,train_labels =None,None\n",
        "with open('/content/drive/MyDrive/cervix/train.pickle','rb') as handle:\n",
        "    train_features,train_labels = pickle.load(handle)\n",
        "val_features, val_labels = None, None\n",
        "with open('/content/drive/MyDrive/cervix/val.pickle','rb') as handle:\n",
        "    val_features,val_labels = pickle.load(handle)\n",
        "test_features, test_labels = None, None\n",
        "with open('/content/drive/MyDrive/cervix/test.pickle', 'rb') as handle:\n",
        "    test_features, test_labels = pickle.load(handle)"
      ]
    },
    {
      "cell_type": "code",
      "execution_count": null,
      "metadata": {
        "colab": {
          "background_save": true
        },
        "id": "8jhnhutAOOow"
      },
      "outputs": [],
      "source": [
        "# val_features, val_labels = None, None\n",
        "# with open('/content/drive/MyDrive/cervix/val.pickle','rb') as handle:\n",
        "#     val_features,val_labels = pickle.load(handle)\n",
        "# test_features, test_labels = None, None\n",
        "# with open('/content/drive/MyDrive/cervix/test.pickle', 'rb') as handle:\n",
        "#     test_features, test_labels = pickle.load(handle)"
      ]
    },
    {
      "cell_type": "code",
      "execution_count": null,
      "metadata": {
        "colab": {
          "background_save": true
        },
        "id": "4nwWqmcmMMe1"
      },
      "outputs": [],
      "source": [
        "# with open('/content/drive/MyDrive/cervix/X_train.pickle', 'wb') as f:\n",
        "#     pickle.dump(X_train, f, protocol=pickle.HIGHEST_PROTOCOL)"
      ]
    },
    {
      "cell_type": "code",
      "execution_count": null,
      "metadata": {
        "colab": {
          "background_save": true
        },
        "id": "DAmJ8LPQNRqH",
        "outputId": "26b0e022-247b-4ff2-e2e6-b10d741ffeb6"
      },
      "outputs": [
        {
          "data": {
            "text/plain": [
              "(6569, 180, 180, 3)"
            ]
          },
          "execution_count": 6,
          "metadata": {},
          "output_type": "execute_result"
        }
      ],
      "source": [
        "X_train = None\n",
        "with open('/content/drive/MyDrive/cervix/X_train.pickle','rb') as handle:\n",
        "    X_train = pickle.load(handle)\n",
        "X_train.shape"
      ]
    },
    {
      "cell_type": "code",
      "execution_count": null,
      "metadata": {
        "colab": {
          "background_save": true
        },
        "id": "lZ6ccuteNo70",
        "outputId": "35ad73d5-d61d-4ded-837c-90c0201f20a7"
      },
      "outputs": [
        {
          "data": {
            "text/plain": [
              "(821, 180, 180, 3)"
            ]
          },
          "execution_count": 7,
          "metadata": {},
          "output_type": "execute_result"
        }
      ],
      "source": [
        "X_val = None\n",
        "with open('/content/drive/MyDrive/cervix/X_val.pickle','rb') as handle:\n",
        "    X_val = pickle.load(handle)\n",
        "X_val.shape"
      ]
    },
    {
      "cell_type": "code",
      "execution_count": null,
      "metadata": {
        "colab": {
          "background_save": true
        },
        "id": "C8IfN0kRNzk7",
        "outputId": "b7b13551-3a82-46bb-babd-720b18cda107"
      },
      "outputs": [
        {
          "data": {
            "text/plain": [
              "(822, 180, 180, 3)"
            ]
          },
          "execution_count": 8,
          "metadata": {},
          "output_type": "execute_result"
        }
      ],
      "source": [
        "X_test = None\n",
        "with open('/content/drive/MyDrive/cervix/X_test.pickle','rb') as handle:\n",
        "    X_test = pickle.load(handle)\n",
        "X_test.shape"
      ]
    },
    {
      "cell_type": "code",
      "execution_count": null,
      "metadata": {
        "colab": {
          "background_save": true
        },
        "id": "H7ff_AdZOA2D"
      },
      "outputs": [],
      "source": [
        "from sklearn.preprocessing import LabelEncoder\n",
        "# creates a mapping s.t type1 assigned 0, type2 1,type3 2\n",
        "le = LabelEncoder().fit(['Type 1','Type 2','Type 3'])\n",
        "y_train = le.transform(train_labels)\n",
        "y_val = le.transform(val_labels)\n",
        "y_test = le.transform(test_labels)"
      ]
    },
    {
      "cell_type": "code",
      "execution_count": null,
      "metadata": {
        "colab": {
          "background_save": true
        },
        "id": "oTH1c-POOebK"
      },
      "outputs": [],
      "source": [
        "import random\n",
        "import numpy as np\n",
        "from keras.preprocessing.image import ImageDataGenerator\n",
        "\n",
        "def add_noise(img):\n",
        "    VARIABILITY = 50  #extent of intensity of noise to be added\n",
        "    deviation = VARIABILITY*random.random()  #magnitude of random noise added to img\n",
        "    #noise with normal distr with magnitude of deviation and noise shape is same as image shape\n",
        "    noise = np.random.normal(0,deviation,img.shape)\n",
        "    img += noise\n",
        "    np.clip(img,0.,255.) #anything below 0 is 0 and above 255 is 255\n",
        "    return img\n",
        "\n",
        "train_datagen = ImageDataGenerator(   #so train data sees all kind of diverse data\n",
        "    rotation_range  = 40,\n",
        "    zoom_range = 0.2,\n",
        "    width_shift_range = 0.2,\n",
        "    height_shift_range = 0.2,\n",
        "    shear_range = 0.2,\n",
        "    horizontal_flip = True,\n",
        "    vertical_flip = True\n",
        ")\n",
        "eval_datagen = ImageDataGenerator()  # no augmentation params cause we wanna evaluate model's performance on original dataset\n"
      ]
    },
    {
      "cell_type": "code",
      "execution_count": null,
      "metadata": {
        "colab": {
          "background_save": true
        },
        "id": "G4DEGfeyOnp3"
      },
      "outputs": [],
      "source": [
        "#augmenting features\n",
        "BATCH_SIZE = 6\n",
        "train_gen = train_datagen.flow(X_train,y_train,batch_size = BATCH_SIZE)\n",
        "val_gen = eval_datagen.flow(X_val,y_val,batch_size = BATCH_SIZE)\n",
        "test_gen = eval_datagen.flow(X_val,y_val,batch_size = BATCH_SIZE)"
      ]
    },
    {
      "cell_type": "code",
      "execution_count": null,
      "metadata": {
        "colab": {
          "background_save": true
        },
        "id": "i2H0A5XIO6GQ",
        "outputId": "c2596b67-ecdf-47b9-935d-3ff9d1f6fec3"
      },
      "outputs": [
        {
          "name": "stdout",
          "output_type": "stream",
          "text": [
            "data batch shape:(6, 180, 180, 3)\n",
            " labels batch shape: (6,)\n"
          ]
        }
      ],
      "source": [
        "for data_batch, labels_batch in train_gen:\n",
        "  print('data batch shape:{}\\n labels batch shape: {}'.format(data_batch.shape,labels_batch.shape))\n",
        "  break"
      ]
    },
    {
      "cell_type": "code",
      "execution_count": null,
      "metadata": {
        "colab": {
          "background_save": true
        },
        "id": "k8UJwXpPTc_V",
        "outputId": "4b98c80b-af31-4ae0-9611-cdcc0d5162c1"
      },
      "outputs": [
        {
          "data": {
            "image/png": "[encoded data removed]",
            "text/plain": [
              "<Figure size 600x500 with 1 Axes>"
            ]
          },
          "metadata": {},
          "output_type": "display_data"
        }
      ],
      "source": [
        "import matplotlib.pyplot as plt\n",
        "#visualizing distribution types in training set\n",
        "labels = list(map(lambda x: int(x[-1]),train_labels))\n",
        "#extracting X from Type_X string and converting into int\n",
        "plt.figure(figsize = (6,5))\n",
        "plt.bar(['Type 1','Type 2', 'Type 3'],[labels.count(1),labels.count(2),labels.count(3)])\n",
        "plt.show()\n"
      ]
    },
    {
      "cell_type": "markdown",
      "metadata": {
        "id": "xl_XkTnoXSaP"
      },
      "source": [
        "# MODEL TRAINING"
      ]
    },
    {
      "cell_type": "code",
      "execution_count": null,
      "metadata": {
        "colab": {
          "background_save": true
        },
        "id": "stVjbOotWzci",
        "outputId": "45572fa2-b209-41db-c53a-774d05f8ff4b"
      },
      "outputs": [
        {
          "name": "stdout",
          "output_type": "stream",
          "text": [
            "Downloading data from https://storage.googleapis.com/tensorflow/keras-applications/vgg16/vgg16_weights_tf_dim_ordering_tf_kernels_notop.h5\n",
            "58889256/58889256 [==============================] - 1s 0us/step\n"
          ]
        }
      ],
      "source": [
        "#initializing pretrained vgg model base\n",
        "'''vgg16 is a pre-built nn esp for img classification tasks'''\n",
        "from keras.applications.vgg16 import VGG16\n",
        "#its trained on imagenet(HUGE DATASET) it's already learned to recognize wide variety of features in images\n",
        "#include_top = false because we wanna use it as feature extractor and not sth which makes predictions\n",
        "conv_base = VGG16(weights = 'imagenet',include_top = False,input_shape = (180,180,3))"
      ]
    },
    {
      "cell_type": "code",
      "execution_count": null,
      "metadata": {
        "colab": {
          "background_save": true
        },
        "id": "gOeqRHHWb629",
        "outputId": "6b180808-570c-4736-bff5-46f7ad3c78b4"
      },
      "outputs": [
        {
          "name": "stdout",
          "output_type": "stream",
          "text": [
            "This is the number of trainable weights before freezing layers in the conv base: 26\n"
          ]
        }
      ],
      "source": [
        "# initial trainable layers before freezing\n",
        "print('This is the number of trainable weights '\n",
        "'before freezing layers in the conv base:', len(conv_base.trainable_weights))"
      ]
    },
    {
      "cell_type": "code",
      "execution_count": null,
      "metadata": {
        "colab": {
          "background_save": true
        },
        "id": "dpZm3s14cvGK"
      },
      "outputs": [],
      "source": [
        "#freezing few layers so it doesn't get too focused on just our task but also\n",
        "#recognizes basic stuffs like edges,colors,simple shapes so to not mess up this we freeze lower layers\n",
        "for layer in conv_base.layers[:-5]: #all layers freezed except last 5\n",
        "  layer.trainable = False"
      ]
    },
    {
      "cell_type": "code",
      "execution_count": null,
      "metadata": {
        "colab": {
          "background_save": true
        },
        "id": "JrP1kmH_dXKY",
        "outputId": "56a4f165-fb6a-4853-aa56-3088c061932e"
      },
      "outputs": [
        {
          "name": "stdout",
          "output_type": "stream",
          "text": [
            "This is the number of trainable weights after freezing layers in the conv base: 6\n"
          ]
        }
      ],
      "source": [
        "# total trainable layers after freezing\n",
        "print('This is the number of trainable weights '\n",
        "'after freezing layers in the conv base:', len(conv_base.trainable_weights))"
      ]
    },
    {
      "cell_type": "code",
      "execution_count": null,
      "metadata": {
        "colab": {
          "background_save": true
        },
        "id": "GdDXMIWudiM8"
      },
      "outputs": [],
      "source": [
        "#building model\n",
        "from keras.models import Sequential\n",
        "from keras.layers import Dense, Flatten , Dropout\n",
        "import keras\n",
        "METRICS = [\n",
        "    keras.metrics.BinaryAccuracy(name='accuracy'),\n",
        "    keras.metrics.Precision(name='precision'),\n",
        "    keras.metrics.Recall(name='recall'),\n",
        "    keras.metrics.AUC(name='prc',curve='PR'),\n",
        "]\n",
        "model = Sequential([conv_base,\n",
        "                    Flatten(),\n",
        "                    Dropout(0.5),\n",
        "                    Dense(3,activation='softmax')])"
      ]
    },
    {
      "cell_type": "code",
      "execution_count": null,
      "metadata": {
        "colab": {
          "background_save": true
        },
        "id": "aAPatt07glga"
      },
      "outputs": [],
      "source": [
        "from keras import backend as K\n",
        "def precision(y_true, y_pred):\n",
        "    \"\"\"Precision\n",
        "    Only computes a batch-wise average of precision.\n",
        "    how many selected items are relevant.\n",
        "    \"\"\"\n",
        "    true_positives = K.sum(K.round(K.clip(y_true * y_pred, 0, 1)))\n",
        "    predicted_positives = K.sum(K.round(K.clip(y_pred, 0, 1)))\n",
        "    precision = true_positives / (predicted_positives + K.epsilon())\n",
        "    return precision\n",
        "\n",
        "\n",
        "def recall(y_true, y_pred):\n",
        "    \"\"\"Recall metric.\n",
        "    how many relevant items are selected.\n",
        "    \"\"\"\n",
        "    true_positives = K.sum(K.round(K.clip(y_true * y_pred, 0, 1)))\n",
        "    possible_positives = K.sum(K.round(K.clip(y_true, 0, 1)))\n",
        "    recall = true_positives / (possible_positives + K.epsilon())\n",
        "    return recall\n",
        "\n",
        "def f1_m(y_true, y_pred):\n",
        "    precision = precision(y_true, y_pred)\n",
        "    recall = recall(y_true, y_pred)\n",
        "    return 2*((precision*recall)/(precision+recall+K.epsilon()))"
      ]
    },
    {
      "cell_type": "code",
      "execution_count": null,
      "metadata": {
        "colab": {
          "background_save": true
        },
        "id": "tUDCcHMJ2hzt",
        "outputId": "42271460-b6fd-4de8-81f0-9180b696fefb"
      },
      "outputs": [
        {
          "name": "stdout",
          "output_type": "stream",
          "text": [
            "Requirement already satisfied: tensorflow in /usr/local/lib/python3.10/dist-packages (2.15.0)\n",
            "Requirement already satisfied: absl-py>=1.0.0 in /usr/local/lib/python3.10/dist-packages (from tensorflow) (1.4.0)\n",
            "Requirement already satisfied: astunparse>=1.6.0 in /usr/local/lib/python3.10/dist-packages (from tensorflow) (1.6.3)\n",
            "Requirement already satisfied: flatbuffers>=23.5.26 in /usr/local/lib/python3.10/dist-packages (from tensorflow) (24.3.25)\n",
            "Requirement already satisfied: gast!=0.5.0,!=0.5.1,!=0.5.2,>=0.2.1 in /usr/local/lib/python3.10/dist-packages (from tensorflow) (0.5.4)\n",
            "Requirement already satisfied: google-pasta>=0.1.1 in /usr/local/lib/python3.10/dist-packages (from tensorflow) (0.2.0)\n",
            "Requirement already satisfied: h5py>=2.9.0 in /usr/local/lib/python3.10/dist-packages (from tensorflow) (3.9.0)\n",
            "Requirement already satisfied: libclang>=13.0.0 in /usr/local/lib/python3.10/dist-packages (from tensorflow) (18.1.1)\n",
            "Requirement already satisfied: ml-dtypes~=0.2.0 in /usr/local/lib/python3.10/dist-packages (from tensorflow) (0.2.0)\n",
            "Requirement already satisfied: numpy<2.0.0,>=1.23.5 in /usr/local/lib/python3.10/dist-packages (from tensorflow) (1.25.2)\n",
            "Requirement already satisfied: opt-einsum>=2.3.2 in /usr/local/lib/python3.10/dist-packages (from tensorflow) (3.3.0)\n",
            "Requirement already satisfied: packaging in /usr/local/lib/python3.10/dist-packages (from tensorflow) (24.0)\n",
            "Requirement already satisfied: protobuf!=4.21.0,!=4.21.1,!=4.21.2,!=4.21.3,!=4.21.4,!=4.21.5,<5.0.0dev,>=3.20.3 in /usr/local/lib/python3.10/dist-packages (from tensorflow) (3.20.3)\n",
            "Requirement already satisfied: setuptools in /usr/local/lib/python3.10/dist-packages (from tensorflow) (67.7.2)\n",
            "Requirement already satisfied: six>=1.12.0 in /usr/local/lib/python3.10/dist-packages (from tensorflow) (1.16.0)\n",
            "Requirement already satisfied: termcolor>=1.1.0 in /usr/local/lib/python3.10/dist-packages (from tensorflow) (2.4.0)\n",
            "Requirement already satisfied: typing-extensions>=3.6.6 in /usr/local/lib/python3.10/dist-packages (from tensorflow) (4.11.0)\n",
            "Requirement already satisfied: wrapt<1.15,>=1.11.0 in /usr/local/lib/python3.10/dist-packages (from tensorflow) (1.14.1)\n",
            "Requirement already satisfied: tensorflow-io-gcs-filesystem>=0.23.1 in /usr/local/lib/python3.10/dist-packages (from tensorflow) (0.37.0)\n",
            "Requirement already satisfied: grpcio<2.0,>=1.24.3 in /usr/local/lib/python3.10/dist-packages (from tensorflow) (1.63.0)\n",
            "Requirement already satisfied: tensorboard<2.16,>=2.15 in /usr/local/lib/python3.10/dist-packages (from tensorflow) (2.15.2)\n",
            "Requirement already satisfied: tensorflow-estimator<2.16,>=2.15.0 in /usr/local/lib/python3.10/dist-packages (from tensorflow) (2.15.0)\n",
            "Requirement already satisfied: keras<2.16,>=2.15.0 in /usr/local/lib/python3.10/dist-packages (from tensorflow) (2.15.0)\n",
            "Requirement already satisfied: wheel<1.0,>=0.23.0 in /usr/local/lib/python3.10/dist-packages (from astunparse>=1.6.0->tensorflow) (0.43.0)\n",
            "Requirement already satisfied: google-auth<3,>=1.6.3 in /usr/local/lib/python3.10/dist-packages (from tensorboard<2.16,>=2.15->tensorflow) (2.27.0)\n",
            "Requirement already satisfied: google-auth-oauthlib<2,>=0.5 in /usr/local/lib/python3.10/dist-packages (from tensorboard<2.16,>=2.15->tensorflow) (1.2.0)\n",
            "Requirement already satisfied: markdown>=2.6.8 in /usr/local/lib/python3.10/dist-packages (from tensorboard<2.16,>=2.15->tensorflow) (3.6)\n",
            "Requirement already satisfied: requests<3,>=2.21.0 in /usr/local/lib/python3.10/dist-packages (from tensorboard<2.16,>=2.15->tensorflow) (2.31.0)\n",
            "Requirement already satisfied: tensorboard-data-server<0.8.0,>=0.7.0 in /usr/local/lib/python3.10/dist-packages (from tensorboard<2.16,>=2.15->tensorflow) (0.7.2)\n",
            "Requirement already satisfied: werkzeug>=1.0.1 in /usr/local/lib/python3.10/dist-packages (from tensorboard<2.16,>=2.15->tensorflow) (3.0.3)\n",
            "Requirement already satisfied: cachetools<6.0,>=2.0.0 in /usr/local/lib/python3.10/dist-packages (from google-auth<3,>=1.6.3->tensorboard<2.16,>=2.15->tensorflow) (5.3.3)\n",
            "Requirement already satisfied: pyasn1-modules>=0.2.1 in /usr/local/lib/python3.10/dist-packages (from google-auth<3,>=1.6.3->tensorboard<2.16,>=2.15->tensorflow) (0.4.0)\n",
            "Requirement already satisfied: rsa<5,>=3.1.4 in /usr/local/lib/python3.10/dist-packages (from google-auth<3,>=1.6.3->tensorboard<2.16,>=2.15->tensorflow) (4.9)\n",
            "Requirement already satisfied: requests-oauthlib>=0.7.0 in /usr/local/lib/python3.10/dist-packages (from google-auth-oauthlib<2,>=0.5->tensorboard<2.16,>=2.15->tensorflow) (1.3.1)\n",
            "Requirement already satisfied: charset-normalizer<4,>=2 in /usr/local/lib/python3.10/dist-packages (from requests<3,>=2.21.0->tensorboard<2.16,>=2.15->tensorflow) (3.3.2)\n",
            "Requirement already satisfied: idna<4,>=2.5 in /usr/local/lib/python3.10/dist-packages (from requests<3,>=2.21.0->tensorboard<2.16,>=2.15->tensorflow) (3.7)\n",
            "Requirement already satisfied: urllib3<3,>=1.21.1 in /usr/local/lib/python3.10/dist-packages (from requests<3,>=2.21.0->tensorboard<2.16,>=2.15->tensorflow) (2.0.7)\n",
            "Requirement already satisfied: certifi>=2017.4.17 in /usr/local/lib/python3.10/dist-packages (from requests<3,>=2.21.0->tensorboard<2.16,>=2.15->tensorflow) (2024.2.2)\n",
            "Requirement already satisfied: MarkupSafe>=2.1.1 in /usr/local/lib/python3.10/dist-packages (from werkzeug>=1.0.1->tensorboard<2.16,>=2.15->tensorflow) (2.1.5)\n",
            "Requirement already satisfied: pyasn1<0.7.0,>=0.4.6 in /usr/local/lib/python3.10/dist-packages (from pyasn1-modules>=0.2.1->google-auth<3,>=1.6.3->tensorboard<2.16,>=2.15->tensorflow) (0.6.0)\n",
            "Requirement already satisfied: oauthlib>=3.0.0 in /usr/local/lib/python3.10/dist-packages (from requests-oauthlib>=0.7.0->google-auth-oauthlib<2,>=0.5->tensorboard<2.16,>=2.15->tensorflow) (3.2.2)\n"
          ]
        }
      ],
      "source": [
        "pip install tensorflow"
      ]
    },
    {
      "cell_type": "code",
      "execution_count": null,
      "metadata": {
        "colab": {
          "background_save": true
        },
        "id": "_cfdBLh-0aLU"
      },
      "outputs": [],
      "source": [
        "import tensorflow as tf\n",
        "from tensorflow.keras.optimizers import Adam\n",
        "model.compile(\n",
        "    optimizer= Adam(0.0001),\n",
        "    loss= 'sparse_categorical_crossentropy',\n",
        "    metrics= ['accuracy'])"
      ]
    },
    {
      "cell_type": "code",
      "execution_count": null,
      "metadata": {
        "colab": {
          "background_save": true
        },
        "id": "cYMGz_W_2nrp",
        "outputId": "8c4b3d1e-0aff-4199-a36c-be1bc25f719c"
      },
      "outputs": [
        {
          "data": {
            "text/plain": [
              "(1094, 136)"
            ]
          },
          "execution_count": 22,
          "metadata": {},
          "output_type": "execute_result"
        }
      ],
      "source": [
        "TRAIN_STEPS = len(train_labels)//BATCH_SIZE\n",
        "VAL_STEPS = len(val_labels)//BATCH_SIZE\n",
        "TRAIN_STEPS,VAL_STEPS"
      ]
    },
    {
      "cell_type": "code",
      "execution_count": null,
      "metadata": {
        "colab": {
          "background_save": true
        },
        "id": "3n_BTTX93ALq"
      },
      "outputs": [],
      "source": [
        "import keras\n",
        "from keras.callbacks import ReduceLROnPlateau, EarlyStopping, ModelCheckpoint\n",
        "# initialize callbacks\n",
        "reduceLR = ReduceLROnPlateau(  #if val loss stops improving after certain epochs(givenby patience) lr reduced by factor0.2\n",
        "    monitor='val_loss',\n",
        "    patience=10,\n",
        "    verbose= 1,\n",
        "    mode='min',\n",
        "    factor=  0.2,\n",
        "    min_lr = 1e-5)\n",
        "\n",
        "# early_stopping = EarlyStopping(  #if model's accuracy doesn't improve for a while, training stopped\n",
        "#     monitor='val_accuracy',\n",
        "#     patience = 10,\n",
        "#     verbose=1,\n",
        "#     mode='max',\n",
        "#     restore_best_weights= True)  # model's weights restored to best performing config\n",
        "\n",
        "# checkpoint = ModelCheckpoint(\n",
        "#     'cervicalModel_weights.hdf5',   # saves weight whenever val_acc improves,also saves the BEST ONE\n",
        "#     monitor='val_accuracy',\n",
        "#     verbose=1,\n",
        "#     save_best_only=True,\n",
        "#     mode= 'max')\n",
        "filepath = \"/content/drive/MyDrive/cervix/cervical-weights/nemodels.h5\"\n",
        "checkpoint = ModelCheckpoint(filepath, monitor='val_accuracy', verbose=1, save_best_only=False, mode='max')"
      ]
    },
    {
      "cell_type": "markdown",
      "metadata": {
        "id": "ox2mwKnjANh_"
      },
      "source": [
        "# TRAIN MODEL\n"
      ]
    },
    {
      "cell_type": "code",
      "execution_count": null,
      "metadata": {
        "colab": {
          "background_save": true,
          "base_uri": "https://localhost:8080/"
        },
        "id": "xDBxpL9uANHN",
        "outputId": "a481111a-62db-4178-8090-82242a19be06"
      },
      "outputs": [
        {
          "name": "stdout",
          "output_type": "stream",
          "text": [
            "Epoch 1/100\n",
            "821/821 [==============================] - ETA: 0s - loss: 1.0258 - accuracy: 0.5071\n",
            "Epoch 1: saving model to /content/drive/MyDrive/cervix/cervical-weights/nemodels.hdf5\n"
          ]
        },
        {
          "name": "stderr",
          "output_type": "stream",
          "text": [
            "/usr/local/lib/python3.10/dist-packages/keras/src/engine/training.py:3103: UserWarning: You are saving your model as an HDF5 file via `model.save()`. This file format is considered legacy. We recommend using instead the native Keras format, e.g. `model.save('my_model.keras')`.\n",
            "  saving_api.save_model(\n"
          ]
        },
        {
          "name": "stdout",
          "output_type": "stream",
          "text": [
            "821/821 [==============================] - 3703s 5s/step - loss: 1.0258 - accuracy: 0.5071 - val_loss: 0.9685 - val_accuracy: 0.5294 - lr: 1.0000e-04\n",
            "Epoch 2/100\n",
            "821/821 [==============================] - ETA: 0s - loss: 0.9848 - accuracy: 0.5267\n",
            "Epoch 2: saving model to /content/drive/MyDrive/cervix/cervical-weights/nemodels.hdf5\n",
            "821/821 [==============================] - 3682s 4s/step - loss: 0.9848 - accuracy: 0.5267 - val_loss: 0.9563 - val_accuracy: 0.5392 - lr: 1.0000e-04\n",
            "Epoch 3/100\n",
            "393/821 [=============>................] - ETA: 28:46 - loss: 0.9746 - accuracy: 0.5247"
          ]
        }
      ],
      "source": [
        "history = model.fit(\n",
        "    train_gen,\n",
        "    steps_per_epoch = TRAIN_STEPS,\n",
        "    validation_data = val_gen,\n",
        "    validation_steps = VAL_STEPS,\n",
        "    epochs = 100,\n",
        "    callbacks = [checkpoint,reduceLR]\n",
        ")"
      ]
    },
    {
      "cell_type": "code",
      "execution_count": null,
      "metadata": {
        "id": "DoiA8c5sOcN-"
      },
      "outputs": [],
      "source": [
        "model.save('/content/drive/MyDrive/cervix/traineddata.h5')"
      ]
    }
  ],
  "metadata": {
    "accelerator": "GPU",
    "colab": {
      "gpuType": "T4",
      "provenance": [],
      "include_colab_link": true
    },
    "kernelspec": {
      "display_name": "Python 3",
      "name": "python3"
    },
    "language_info": {
      "name": "python"
    }
  },
  "nbformat": 4,
  "nbformat_minor": 0
}